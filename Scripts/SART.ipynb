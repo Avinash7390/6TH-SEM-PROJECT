{
 "cells": [
  {
   "cell_type": "code",
   "execution_count": null,
   "metadata": {},
   "outputs": [],
   "source": [
    "from skimage.transform import iradon_sart\n",
    "\n",
    "reconstruction_sart = iradon_sart(sinogram, theta=theta)\n",
    "error = reconstruction_sart - image\n",
    "print(\n",
    "    f'SART (1 iteration) rms reconstruction error: ' f'{np.sqrt(np.mean(error**2)):.3g}'\n",
    ")\n",
    "\n",
    "fig, axes = plt.subplots(2, 2, figsize=(8, 8.5), sharex=True, sharey=True)\n",
    "ax = axes.ravel()\n",
    "\n",
    "ax[0].set_title(\"Reconstruction\\nSART\")\n",
    "ax[0].imshow(reconstruction_sart, cmap=plt.cm.Greys_r)\n",
    "\n",
    "ax[1].set_title(\"Reconstruction error\\nSART\")\n",
    "ax[1].imshow(reconstruction_sart - image, cmap=plt.cm.Greys_r, **imkwargs)\n",
    "\n",
    "# Run a second iteration of SART by supplying the reconstruction\n",
    "# from the first iteration as an initial estimate\n",
    "reconstruction_sart2 = iradon_sart(sinogram, theta=theta, image=reconstruction_sart)\n",
    "error = reconstruction_sart2 - image\n",
    "print(\n",
    "    f'SART (2 iterations) rms reconstruction error: '\n",
    "    f'{np.sqrt(np.mean(error**2)):.3g}'\n",
    ")\n",
    "\n",
    "ax[2].set_title(\"Reconstruction\\nSART, 2 iterations\")\n",
    "ax[2].imshow(reconstruction_sart2, cmap=plt.cm.Greys_r)\n",
    "\n",
    "ax[3].set_title(\"Reconstruction error\\nSART, 2 iterations\")\n",
    "ax[3].imshow(reconstruction_sart2 - image, cmap=plt.cm.Greys_r, **imkwargs)\n",
    "plt.show()"
   ]
  }
 ],
 "metadata": {
  "language_info": {
   "name": "python"
  }
 },
 "nbformat": 4,
 "nbformat_minor": 2
}
